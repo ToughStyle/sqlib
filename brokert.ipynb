{
 "cells": [
  {
   "cell_type": "code",
   "execution_count": 1,
   "metadata": {},
   "outputs": [
    {
     "name": "stderr",
     "output_type": "stream",
     "text": [
      "[976827:MainThread](2023-09-11 22:31:36,409) INFO - qlib.Initialization - [config.py:416] - default_conf: client.\n",
      "[976827:MainThread](2023-09-11 22:31:36,651) INFO - qlib.Initialization - [__init__.py:74] - qlib successfully initialized based on client settings.\n",
      "[976827:MainThread](2023-09-11 22:31:36,652) INFO - qlib.Initialization - [__init__.py:76] - data_path={'__DEFAULT_FREQ': PosixPath('/home/idea/.qlib/qlib_data/invest')}\n",
      "[976827:MainThread](2023-09-11 22:31:36,892) INFO - qlib.Initialization - [config.py:416] - default_conf: client.\n",
      "[976827:MainThread](2023-09-11 22:31:36,894) INFO - qlib.Initialization - [__init__.py:74] - qlib successfully initialized based on client settings.\n",
      "[976827:MainThread](2023-09-11 22:31:36,895) INFO - qlib.Initialization - [__init__.py:76] - data_path={'__DEFAULT_FREQ': PosixPath('/home/idea/.qlib/qlib_data/invest')}\n"
     ]
    },
    {
     "name": "stdout",
     "output_type": "stream",
     "text": [
      "Backtesting: 2022-01-01 00:00:00 to 2023-12-31 00:00:00\n",
      "\n",
      "Computing indicators...\n"
     ]
    },
    {
     "name": "stderr",
     "output_type": "stream",
     "text": [
      "  0% (0 of 3) |                          | Elapsed Time: 0:00:00 ETA:  --:--:--\n",
      " 33% (1 of 3) |########                  | Elapsed Time: 0:00:01 ETA:   0:00:03\n",
      "100% (3 of 3) |##########################| Elapsed Time: 0:00:01 Time:  0:00:01\n"
     ]
    },
    {
     "name": "stdout",
     "output_type": "stream",
     "text": [
      "\n",
      "Test split: 2022-01-04 00:00:00 to 2023-09-05 00:00:00\n"
     ]
    },
    {
     "name": "stderr",
     "output_type": "stream",
     "text": [
      "  0% (0 of 407) |                        | Elapsed Time: 0:00:00 ETA:  --:--:--\n",
      " 59% (241 of 407) |#############         | Elapsed Time: 0:00:00 ETA:  00:00:00\n",
      "100% (407 of 407) |######################| Elapsed Time: 0:00:00 Time:  0:00:00\n"
     ]
    },
    {
     "name": "stdout",
     "output_type": "stream",
     "text": [
      "\n",
      "Finished backtest: 0:00:05\n",
      "┌───────┐\n",
      "│   0   │\n",
      "│ int64 │\n",
      "├───────┤\n",
      "│     2 │\n",
      "└───────┘\n",
      "\n"
     ]
    }
   ],
   "source": [
    "from pybroker import Strategy, YFinance, highest\n",
    "from DataSource.qlibdata import qlibDataSource\n",
    "from database_utils.db_utils import save_to_db, DuckDBManager\n",
    "import pandas as pd\n",
    "\n",
    "DB_PATH = \"database_utils/duckdb_files\"\n",
    "\n",
    "def exec_fn(ctx):\n",
    "   # Get the rolling 10 day high.\n",
    "   high_10d = ctx.indicator('high_10d')\n",
    "   # Buy on a new 10 day high.\n",
    "   if not ctx.long_pos() and high_10d[-1] > high_10d[-2]:\n",
    "      ctx.buy_shares = 100\n",
    "      # Hold the position for 5 days.\n",
    "      ctx.hold_bars = 5\n",
    "      # Set a stop loss of 2%.\n",
    "      ctx.stop_loss_pct = 2\n",
    "\n",
    "\n",
    "data_source = qlibDataSource()\n",
    "symbols = ['SH600809','SZ000001', 'SZ000002']\n",
    "start_date = '2022-01-01'\n",
    "end_date = '2023-12-31'\n",
    "_timeframe = 'day'\n",
    "_adjust = None\n",
    "\n",
    "df = data_source._fetch_data(symbols, start_date, end_date, _timeframe, _adjust)\n",
    "strategy = Strategy(df, start_date=start_date, end_date=end_date)\n",
    "strategy.add_execution(exec_fn, symbols, indicators=highest('high_10d', 'close', period=10))\n",
    "# # Run the backtest after 20 days have passed.\n",
    "result = strategy.backtest(warmup=20)\n",
    "result.orders\n",
    "# 将result.orders装为dataframe\n",
    "# df = pd.DataFrame(result.orders)\n",
    "# 将数字2转为dataframe\n",
    "df = pd.DataFrame([2])\n",
    "\n",
    "save_to_db(DB_PATH,\"pybroker.db\", \"df\", df)"
   ]
  }
 ],
 "metadata": {
  "kernelspec": {
   "display_name": "cplus",
   "language": "python",
   "name": "python3"
  },
  "language_info": {
   "codemirror_mode": {
    "name": "ipython",
    "version": 3
   },
   "file_extension": ".py",
   "mimetype": "text/x-python",
   "name": "python",
   "nbconvert_exporter": "python",
   "pygments_lexer": "ipython3",
   "version": "3.9.13"
  },
  "orig_nbformat": 4
 },
 "nbformat": 4,
 "nbformat_minor": 2
}
