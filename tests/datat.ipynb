{
 "cells": [
  {
   "cell_type": "code",
   "execution_count": null,
   "metadata": {},
   "outputs": [],
   "source": [
    "import qlib\n",
    "qlib.init_qlib(provider_uri='~/.qlib/qlib_data/gta')"
   ]
  },
  {
   "cell_type": "code",
   "execution_count": null,
   "metadata": {},
   "outputs": [],
   "source": [
    "from qlib.data import D\n",
    "# 引入Timestamp\n",
    "from pandas import Timestamp\n",
    "\n",
    "D.calendar(start_time='2010-01-01', end_time='2017-12-31', freq='day') # 2010-01-01是周五，所以返回的是周一和周二\n",
    "# [Timestamp('2010-01-04 00:00:00'), Timestamp('2010-01-05 00:00:00')]"
   ]
  },
  {
   "cell_type": "code",
   "execution_count": null,
   "metadata": {},
   "outputs": [],
   "source": [
    "D.instruments(market='all')"
   ]
  },
  {
   "cell_type": "code",
   "execution_count": null,
   "metadata": {},
   "outputs": [],
   "source": [
    "instruments = D.instruments(market='sh600809')\n",
    "D.list_instruments(instruments=instruments, start_time='2010-01-01', end_time='2017-12-31', as_list=True)[:6]"
   ]
  },
  {
   "cell_type": "code",
   "execution_count": null,
   "metadata": {},
   "outputs": [],
   "source": [
    "from qlib.data import D\n",
    "from qlib.data.filter import NameDFilter\n",
    "nameDFilter = NameDFilter(name_rule_re='SH[0-9]{4}55') # 匹配以SH开头，后面跟4个数字，最后以55结尾的股票\n",
    "instruments = D.instruments(market='csi300', filter_pipe=[nameDFilter])\n",
    "D.list_instruments(instruments=instruments, start_time='2015-01-01', end_time='2016-02-15', as_list=True) # 2015-01-01是周四，所以返回的是周五和周一"
   ]
  },
  {
   "cell_type": "code",
   "execution_count": null,
   "metadata": {},
   "outputs": [],
   "source": [
    "instruments"
   ]
  },
  {
   "cell_type": "code",
   "execution_count": null,
   "metadata": {},
   "outputs": [],
   "source": [
    "from qlib.data import D\n",
    "from qlib.data.filter import ExpressionDFilter\n",
    "expressionDFilter = ExpressionDFilter(rule_expression='$close>2000')\n",
    "instruments = D.instruments(market='csi300', filter_pipe=[expressionDFilter])\n",
    "D.list_instruments(instruments=instruments, start_time='2015-01-01', end_time='2016-02-15', as_list=True)"
   ]
  },
  {
   "cell_type": "code",
   "execution_count": null,
   "metadata": {},
   "outputs": [],
   "source": [
    "D"
   ]
  },
  {
   "cell_type": "code",
   "execution_count": null,
   "metadata": {},
   "outputs": [],
   "source": [
    "from qlib.data import D\n",
    "instruments = ['SH600809']\n",
    "fields = ['$close','$open','$high', '$volume', 'Ref($close, 1)', 'Mean($close, 3)', '$high-$low']\n",
    "D.features(instruments, fields, start_time='2018-01-01', end_time='2020-12-31', freq='day').head()"
   ]
  },
  {
   "cell_type": "code",
   "execution_count": null,
   "metadata": {},
   "outputs": [],
   "source": [
    "from qlib.data import D\n",
    "from qlib.data.filter import NameDFilter, ExpressionDFilter\n",
    "nameDFilter = NameDFilter(name_rule_re='SH[0-9]{4}55')\n",
    "expressionDFilter = ExpressionDFilter(rule_expression='$close>Ref($close,1)')\n",
    "instruments = D.instruments(market='csi300', filter_pipe=[nameDFilter, expressionDFilter])\n",
    "# instruments = ['SH600809']\n",
    "fields = ['$close', '$volume', 'Ref($close, 1)', 'Mean($close, 3)', '$high-$low']\n",
    "# D.features(instruments, fields, start_time='2010-01-01', end_time='2017-12-31', freq='day').head()\n",
    "# 查看D.features的数据量\n",
    "df = D.features(instruments, fields, start_time='2010-01-01', end_time='2017-12-31', freq='day').shape\n"
   ]
  },
  {
   "cell_type": "code",
   "execution_count": null,
   "metadata": {},
   "outputs": [],
   "source": [
    "# from qlib.data.dataset import DataHandlerLP\n",
    "# dh = DataHandlerLP.from_df(df)\n",
    "# print(dh)\n",
    "# dh.to_pickle(fname, dump_all=True)"
   ]
  },
  {
   "cell_type": "code",
   "execution_count": null,
   "metadata": {},
   "outputs": [],
   "source": [
    "import qlib\n",
    "from qlib.contrib.data.handler import Alpha158\n",
    "\n",
    "data_handler_config = {\n",
    "    \"start_time\": \"2008-01-01\",\n",
    "    \"end_time\": \"2020-08-01\",\n",
    "    \"fit_start_time\": \"2008-01-01\",\n",
    "    \"fit_end_time\": \"2014-12-31\",\n",
    "    \"instruments\": \"csi300\",\n",
    "}\n",
    "\n"
   ]
  },
  {
   "cell_type": "code",
   "execution_count": null,
   "metadata": {},
   "outputs": [],
   "source": [
    "if __name__ == \"__main__\":\n",
    "    qlib.init_qlib()\n",
    "    h = Alpha158(**data_handler_config)\n"
   ]
  },
  {
   "cell_type": "code",
   "execution_count": null,
   "metadata": {},
   "outputs": [],
   "source": [
    "# 描述一下h的数据结构\n",
    "h.get_cols()"
   ]
  },
  {
   "cell_type": "code",
   "execution_count": null,
   "metadata": {},
   "outputs": [],
   "source": [
    "h.fetch()"
   ]
  },
  {
   "cell_type": "code",
   "execution_count": null,
   "metadata": {},
   "outputs": [],
   "source": [
    "h.fetch(col_set='label')"
   ]
  },
  {
   "cell_type": "code",
   "execution_count": null,
   "metadata": {},
   "outputs": [],
   "source": [
    "h.get_backend()"
   ]
  },
  {
   "cell_type": "code",
   "execution_count": null,
   "metadata": {},
   "outputs": [],
   "source": [
    "h.get_feature_config()"
   ]
  },
  {
   "cell_type": "code",
   "execution_count": null,
   "metadata": {},
   "outputs": [],
   "source": [
    "import qlib\n",
    "qlib.init_qlib(provider_uri='~/.qlib/qlib_data/cn_data')"
   ]
  },
  {
   "cell_type": "code",
   "execution_count": null,
   "metadata": {},
   "outputs": [],
   "source": [
    "from qlib.data.dataset.loader import QlibDataLoader\n",
    "MACD_EXP = '(EMA($close, 12) - EMA($close, 26))/$close - EMA((EMA($close, 12) - EMA($close, 26))/$close, 9)/$close'\n",
    "fields = [MACD_EXP] # MACD\n",
    "names = ['MACD']\n",
    "labels = ['Ref($close, -2)/Ref($close, -1) - 1'] # label\n",
    "label_names = ['LABEL']\n",
    "data_loader_config = {\"feature\": (fields, names),\"label\": (labels, label_names)}\n",
    "data_loader = QlibDataLoader(config=data_loader_config)\n",
    "df = data_loader.load(instruments='csi300', start_time='2010-01-01', end_time='2017-12-31')\n",
    "print(df)"
   ]
  },
  {
   "cell_type": "code",
   "execution_count": null,
   "metadata": {},
   "outputs": [],
   "source": [
    "from qlib.data.dataset import DatasetH\n",
    "# 沪深300股票池代码，在instruments文件夹下必须有对应的文件\n",
    "# Data Loader\n",
    "market = 'csi300'\n",
    "# sh000300.txt\n",
    "# EMA($close, 10)表示计算close的10日指数加权均线\n",
    "close_ma = ['EMA($close, 10)', 'EMA($close, 30)'] \n",
    "# 下一日收益率, Ref($close, -1)表示下一日收盘价\n",
    "ma_names = ['EMA10', 'EMA30']\n",
    "ret = [\"Ref($close, -1)/$close-1\"] \n",
    "ret_name = ['next_ret']\n",
    "qdl_ma_gp = QlibDataLoader(config={'feature':(close_ma, ma_names), 'label': (ret, ret_name)}) \n",
    "# 实例化Data Handler\n",
    "shared_processors = [DropnaProcessor()]\n",
    "learn_processors = [CSZScoreNorm()]\n",
    "infer_processors = [ZScoreNorm(fit_start_time='20190101', fit_end_time='20211231')]\n",
    "dh_pr_test = DataHandlerLP(instruments='sh000300', \n",
    "                           start_time='20190101', \n",
    "                           end_time='20211231',\n",
    "                           process_type=DataHandlerLP.PTYPE_I, \n",
    "                           learn_processors=learn_processors,\n",
    "                           shared_processors=shared_processors,\n",
    "                           infer_processors=infer_processors,\n",
    "                           data_loader=qdl_ma_gp)\n",
    "ds = DatasetH(dh_pr_test, segments={\"train\": ('20190101', '20201231'), \"test\": ('20210101', '20211231')})\n",
    "# 准备训练数据\n",
    "ds.prepare('train')\n",
    "# 准备测试数据\n",
    "ds.prepare('test')"
   ]
  },
  {
   "cell_type": "code",
   "execution_count": null,
   "metadata": {},
   "outputs": [],
   "source": [
    "import qlib\n",
    "from qlib.data.dataset.loader import QlibDataLoader\n",
    "qlib.init_qlib(provider_uri='~/.qlib/qlib_data/cn_data')\n",
    "# 加载原始特征，比如收盘价、最高价\n",
    "config=(['$close', '$high','EMA($close, 10)', 'EMA($close, 30)'],['close', 'high','EMA10', 'EMA30'])\n",
    "qdl = QlibDataLoader(config=config)\n",
    "qdl.load(instruments=['SH600519'], start_time='20190101', end_time='20191231')\n",
    "# 可以通过freq参数设置周期，默认freq='day'"
   ]
  },
  {
   "cell_type": "code",
   "execution_count": null,
   "metadata": {},
   "outputs": [],
   "source": [
    "# 这次我们加载沪深300成分股的10日和30日收盘价指数加权均价\n",
    "market = 'csi300' # 沪深300股票池代码，在instruments文件夹下有对应的sh000300.txt\n",
    "close_ma = ['EMA($close, 10)', 'EMA($close, 30)'] # EMA($close, 10)表示计算close的10日指数加权均线\n",
    "ma_names = ['EMA10', 'EMA30']\n",
    "qdl_ma = QlibDataLoader(config=(close_ma, ma_names))\n",
    "qdl_ma.load(instruments=market, start_time='20150101', end_time='20210110')"
   ]
  },
  {
   "cell_type": "code",
   "execution_count": null,
   "metadata": {},
   "outputs": [],
   "source": [
    "# 沪深300股票池代码，在instruments文件夹下有对应的sh000300.txt\n",
    "market = 'csi300' \n",
    "# EMA($close, 10)表示计算close的10日指数加权均线\n",
    "close_ma = ['EMA($close, 10)', 'EMA($close, 30)']\n",
    "ma_names = ['EMA10', 'EMA30']\n",
    "ret = [\"Ref($close, -1)/$close-1\"] \n",
    "# 下一日收益率, Ref($close, -1)表示下一日收盘价\n",
    "ret_name = ['next_ret']\n",
    "qdl_ma_gp = QlibDataLoader(config={'feature':(close_ma, ma_names), 'label': (ret, ret_name)}) \n",
    "qdl_ma_gp.load(instruments=market, start_time='20150101', end_time='20210110')"
   ]
  },
  {
   "cell_type": "code",
   "execution_count": null,
   "metadata": {},
   "outputs": [],
   "source": [
    "from qlib.data.dataset.handler import DataHandlerLP\n",
    "from qlib.data.dataset.processor import CSZScoreNorm, DropnaProcessor\n",
    "\n",
    "qdl = QlibDataLoader(config=(['$close/Ref($close, 1)-1'],['Return']))\n",
    "df = qdl.load(instruments='csi300', start_time='20210101', end_time='20210430') \n",
    "# 是否有空值\n",
    "df.isna().sum()\n",
    "# 原始数据分布\n",
    "# df.xs('2021-01-05').hist()\n",
    "# 实例化DataHandler\n",
    "dh = DataHandlerLP(instruments='csi300', start_time='20150101', end_time='20210120',learn_processors=[DropnaProcessor(), CSZScoreNorm()],data_loader=qdl)\n",
    "df_hdl = dh.fetch(data_key=DataHandlerLP.DK_L) # 获取处理后的数据，处理过程为先去空值，再截面标准化。\n",
    "# 查看是否还存在空值\n",
    "df_hdl.isna().sum()\n",
    "# CSZScoreNorm截面标准化处理后的数据分布\n",
    "# df_hdl.xs('2021-01-05').hist()"
   ]
  }
 ],
 "metadata": {
  "kernelspec": {
   "display_name": "visgpt",
   "language": "python",
   "name": "python3"
  },
  "language_info": {
   "codemirror_mode": {
    "name": "ipython",
    "version": 3
   },
   "file_extension": ".py",
   "mimetype": "text/x-python",
   "name": "python",
   "nbconvert_exporter": "python",
   "pygments_lexer": "ipython3",
   "version": "3.8.16"
  },
  "orig_nbformat": 4
 },
 "nbformat": 4,
 "nbformat_minor": 2
}
