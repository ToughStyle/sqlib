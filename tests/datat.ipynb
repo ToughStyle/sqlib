{
 "cells": [
  {
   "cell_type": "code",
   "execution_count": null,
   "metadata": {},
   "outputs": [],
   "source": [
    "import qlib\n",
    "qlib.init_qlib(provider_uri='~/.qlib/qlib_data/cn_data')"
   ]
  },
  {
   "cell_type": "code",
   "execution_count": null,
   "metadata": {},
   "outputs": [],
   "source": [
    "from qlib.data import D\n",
    "# 引入Timestamp\n",
    "from pandas import Timestamp\n",
    "\n",
    "D.calendar(start_time='2010-01-01', end_time='2017-12-31', freq='day') # 2010-01-01是周五，所以返回的是周一和周二\n",
    "# [Timestamp('2010-01-04 00:00:00'), Timestamp('2010-01-05 00:00:00')]"
   ]
  },
  {
   "cell_type": "code",
   "execution_count": null,
   "metadata": {},
   "outputs": [],
   "source": [
    "D.instruments(market='all')"
   ]
  },
  {
   "cell_type": "code",
   "execution_count": null,
   "metadata": {},
   "outputs": [],
   "source": [
    "instruments = D.instruments(market='csi300')\n",
    "D.list_instruments(instruments=instruments, start_time='2010-01-01', end_time='2017-12-31', as_list=True)[:6]"
   ]
  },
  {
   "cell_type": "code",
   "execution_count": null,
   "metadata": {},
   "outputs": [],
   "source": [
    "from qlib.data import D\n",
    "from qlib.data.filter import NameDFilter\n",
    "nameDFilter = NameDFilter(name_rule_re='SH[0-9]{4}55') # 匹配以SH开头，后面跟4个数字，最后以55结尾的股票\n",
    "instruments = D.instruments(market='csi300', filter_pipe=[nameDFilter])\n",
    "D.list_instruments(instruments=instruments, start_time='2015-01-01', end_time='2016-02-15', as_list=True) # 2015-01-01是周四，所以返回的是周五和周一"
   ]
  },
  {
   "cell_type": "code",
   "execution_count": null,
   "metadata": {},
   "outputs": [],
   "source": [
    "instruments"
   ]
  },
  {
   "cell_type": "code",
   "execution_count": null,
   "metadata": {},
   "outputs": [],
   "source": [
    "from qlib.data import D\n",
    "from qlib.data.filter import ExpressionDFilter\n",
    "expressionDFilter = ExpressionDFilter(rule_expression='$close>2000')\n",
    "instruments = D.instruments(market='csi300', filter_pipe=[expressionDFilter])\n",
    "D.list_instruments(instruments=instruments, start_time='2015-01-01', end_time='2016-02-15', as_list=True)"
   ]
  },
  {
   "cell_type": "code",
   "execution_count": null,
   "metadata": {},
   "outputs": [],
   "source": [
    "D"
   ]
  },
  {
   "cell_type": "code",
   "execution_count": null,
   "metadata": {},
   "outputs": [],
   "source": [
    "from qlib.data import D\n",
    "instruments = ['SH600000']\n",
    "fields = ['$close', '$volume', 'Ref($close, 1)', 'Mean($close, 3)', '$high-$low']\n",
    "D.features(instruments, fields, start_time='2010-01-01', end_time='2017-12-31', freq='day').head()"
   ]
  },
  {
   "cell_type": "code",
   "execution_count": null,
   "metadata": {},
   "outputs": [],
   "source": [
    "from qlib.data import D\n",
    "from qlib.data.filter import NameDFilter, ExpressionDFilter\n",
    "nameDFilter = NameDFilter(name_rule_re='SH[0-9]{4}55')\n",
    "expressionDFilter = ExpressionDFilter(rule_expression='$close>Ref($close,1)')\n",
    "instruments = D.instruments(market='csi300', filter_pipe=[nameDFilter, expressionDFilter])\n",
    "fields = ['$close', '$volume', 'Ref($close, 1)', 'Mean($close, 3)', '$high-$low']\n",
    "# D.features(instruments, fields, start_time='2010-01-01', end_time='2017-12-31', freq='day').head()\n",
    "# 查看D.features的数据量\n",
    "df = D.features(instruments, fields, start_time='2010-01-01', end_time='2017-12-31', freq='day').shape\n"
   ]
  },
  {
   "cell_type": "code",
   "execution_count": null,
   "metadata": {},
   "outputs": [],
   "source": [
    "from qlib.data.dataset import DataHandlerLP\n",
    "# dh = DataHandlerLP.from_df(df)\n",
    "# dh.to_pickle(fname, dump_all=True)"
   ]
  },
  {
   "cell_type": "code",
   "execution_count": null,
   "metadata": {},
   "outputs": [],
   "source": [
    "import qlib\n",
    "from qlib.contrib.data.handler import Alpha158\n",
    "\n",
    "data_handler_config = {\n",
    "    \"start_time\": \"2008-01-01\",\n",
    "    \"end_time\": \"2020-08-01\",\n",
    "    \"fit_start_time\": \"2008-01-01\",\n",
    "    \"fit_end_time\": \"2014-12-31\",\n",
    "    \"instruments\": \"csi300\",\n",
    "}\n",
    "\n"
   ]
  },
  {
   "cell_type": "code",
   "execution_count": null,
   "metadata": {},
   "outputs": [],
   "source": [
    "if __name__ == \"__main__\":\n",
    "    qlib.init_qlib()\n",
    "    h = Alpha158(**data_handler_config)\n"
   ]
  },
  {
   "cell_type": "code",
   "execution_count": null,
   "metadata": {},
   "outputs": [],
   "source": [
    "# 描述一下h的数据结构\n",
    "h.get_cols()"
   ]
  },
  {
   "cell_type": "code",
   "execution_count": null,
   "metadata": {},
   "outputs": [],
   "source": [
    "h.fetch()"
   ]
  },
  {
   "cell_type": "code",
   "execution_count": null,
   "metadata": {},
   "outputs": [],
   "source": [
    "h.fetch(col_set='label')"
   ]
  },
  {
   "cell_type": "code",
   "execution_count": null,
   "metadata": {},
   "outputs": [],
   "source": [
    "h.get_backend()"
   ]
  },
  {
   "cell_type": "code",
   "execution_count": null,
   "metadata": {},
   "outputs": [],
   "source": [
    "h.get_feature_config()"
   ]
  }
 ],
 "metadata": {
  "kernelspec": {
   "display_name": "visgpt",
   "language": "python",
   "name": "python3"
  },
  "language_info": {
   "codemirror_mode": {
    "name": "ipython",
    "version": 3
   },
   "file_extension": ".py",
   "mimetype": "text/x-python",
   "name": "python",
   "nbconvert_exporter": "python",
   "pygments_lexer": "ipython3",
   "version": "3.8.16"
  },
  "orig_nbformat": 4
 },
 "nbformat": 4,
 "nbformat_minor": 2
}
