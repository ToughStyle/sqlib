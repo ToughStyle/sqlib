{
 "cells": [
  {
   "cell_type": "code",
   "execution_count": 1,
   "metadata": {},
   "outputs": [],
   "source": [
    "import duckdb\n",
    "con = duckdb.connect('file.db')\n",
    "\n",
    "import pandas\n",
    "\n",
    "# Create a Pandas dataframe\n",
    "my_df = pandas.DataFrame.from_dict({'a': [42]})\n",
    "\n",
    "# create the table \"my_table\" from the DataFrame \"my_df\"\n",
    "# Note: duckdb.sql connects to the default in-memory database connection\n",
    "con.sql(\"CREATE TABLE my_table AS SELECT * FROM my_df\")\n",
    "\n",
    "# insert into the table \"my_table\" from the DataFrame \"my_df\"\n",
    "con.sql(\"INSERT INTO my_table SELECT * FROM my_df\")"
   ]
  },
  {
   "cell_type": "code",
   "execution_count": 2,
   "metadata": {},
   "outputs": [
    {
     "name": "stdout",
     "output_type": "stream",
     "text": [
      "┌───────┐\n",
      "│   a   │\n",
      "│ int64 │\n",
      "├───────┤\n",
      "│    42 │\n",
      "│    42 │\n",
      "└───────┘\n",
      "\n"
     ]
    }
   ],
   "source": [
    "con.sql(\"SELECT * FROM my_table\").show()"
   ]
  },
  {
   "cell_type": "code",
   "execution_count": 5,
   "metadata": {},
   "outputs": [],
   "source": [
    "from sqlalchemy import create_engine\n",
    "import pandas as pd\n",
    "\n",
    "connect_args={\n",
    "        \"preload_extensions\": [\"httpfs\"],\n",
    "        \"config\": {\n",
    "          \"s3_endpoint\":\"127.0.0.1:9900\",\n",
    "          \"s3_access_key_id\":\"admin\",\n",
    "          \"s3_secret_access_key\":\"sample_key\",\n",
    "          \"s3_url_style\":\"path\",\n",
    "          \"s3_use_ssl\":False\n",
    "  }\n",
    "}\n",
    "\n",
    "engine = create_engine(\"duckdb:///\",connect_args=connect_args)\n",
    "\n",
    "def test_s3():\n",
    "    sql = \"select count(*) from 's3://ontime/*.parquet'\"\n",
    "    df = pd.read_sql(sql, engine)\n",
    "    print(df)\n",
    "\n",
    "test_s3()\n"
   ]
  },
  {
   "cell_type": "code",
   "execution_count": 6,
   "metadata": {},
   "outputs": [],
   "source": [
    "import duckdb\n",
    "duckdb.sql('SELECT 42').write_parquet('out.parquet') "
   ]
  }
 ],
 "metadata": {
  "kernelspec": {
   "display_name": "visgpt",
   "language": "python",
   "name": "python3"
  },
  "language_info": {
   "codemirror_mode": {
    "name": "ipython",
    "version": 3
   },
   "file_extension": ".py",
   "mimetype": "text/x-python",
   "name": "python",
   "nbconvert_exporter": "python",
   "pygments_lexer": "ipython3",
   "version": "3.8.16"
  },
  "orig_nbformat": 4
 },
 "nbformat": 4,
 "nbformat_minor": 2
}
