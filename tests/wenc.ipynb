{
 "cells": [
  {
   "cell_type": "code",
   "execution_count": 14,
   "metadata": {},
   "outputs": [
    {
     "name": "stdout",
     "output_type": "stream",
     "text": [
      "        股票代码  股票简称    最新价 上市板块 次新股[20230830] 涨跌幅:前复权[20230830] 涨跌幅:前复权排名[20230830] market_code    code\n",
      "0  300904.SZ  威力传动  96.42  创业板           次新股             8.875             72/5264          33  300904\n",
      "1  301421.SZ  波长光电  72.00  创业板           次新股             6.746            126/5264          33  301421\n",
      "2  301329.SZ  信音电子  24.01  创业板           次新股             5.261            247/5264          33  301329\n",
      "3  301509.SZ  金凯生科  79.11  创业板           次新股             4.436            369/5264          33  301509\n",
      "4  301510.SZ  固高科技  48.78  创业板           次新股             3.920            456/5264          33  301510\n",
      "5  301383.SZ  天键股份  41.85  创业板           次新股             3.333            639/5264          33  301383\n",
      "6  301272.SZ   英华特  68.40  创业板           次新股             2.749            906/5264          33  301272\n",
      "7  301376.SZ  致欧科技  25.50  创业板           次新股             2.698            922/5264          33  301376\n",
      "8  301320.SZ  豪江智能  20.80  创业板           次新股             2.665            933/5264          33  301320\n",
      "9  301232.SZ  飞沃科技  59.12  创业板           次新股             2.408           1069/5264          33  301232\n"
     ]
    }
   ],
   "source": [
    "import pandas as pd\n",
    "import requests\n",
    "\n",
    "class StockQuery:\n",
    "    def __init__(self):\n",
    "        self.url = \"https://www.iwencai.com/gateway/urp/v7/landing/getDataList\"\n",
    "        self.headers = {\n",
    "            \"User-Agent\": \"Mozilla/5.0 (Windows NT 10.0; Win64; x64) AppleWebKit/537.36 (KHTML, like Gecko) Chrome/111.0.0.0 Safari/537.36\"\n",
    "        }\n",
    "\n",
    "    def query_stock(self, query: str) -> pd.DataFrame:\n",
    "        params = {\n",
    "            \"query\": query,\n",
    "            \"urp_sort_way\": \"desc\",\n",
    "            \"urp_sort_index\": \"\",\n",
    "            \"page\": \"1\",\n",
    "            \"perpage\": \"100\",\n",
    "            \"addheaderindexes\": \"\",\n",
    "            \"condition\": \"\",\n",
    "            \"codelist\": \"\",\n",
    "            \"indexnamelimit\": \"\",\n",
    "            \"ret\": \"json_all\",\n",
    "            \"source\": \"Ths_iwencai_Xuangu\",\n",
    "            \"urp_use_sort\": \"1\",\n",
    "            \"uuids[0]\": \"24087\",\n",
    "            \"query_type\": \"stock\",\n",
    "            \"comp_id\": \"6836372\",\n",
    "            \"business_cat\": \"soniu\",\n",
    "            \"uuid\": \"24087\",\n",
    "        }\n",
    "        response = requests.get(self.url, params=params, headers=self.headers)\n",
    "        data_json = response.json()\n",
    "        result_df = pd.DataFrame(data_json[\"answer\"][\"components\"][0][\"data\"][\"datas\"])\n",
    "        return result_df\n",
    "\n",
    "if __name__ == \"__main__\":\n",
    "    stock_query = StockQuery()\n",
    "    result = stock_query.query_stock(\"创业板次新股，涨幅排序前十的股票\")\n",
    "    print(result)\n"
   ]
  }
 ],
 "metadata": {
  "kernelspec": {
   "display_name": "visgpt",
   "language": "python",
   "name": "python3"
  },
  "language_info": {
   "codemirror_mode": {
    "name": "ipython",
    "version": 3
   },
   "file_extension": ".py",
   "mimetype": "text/x-python",
   "name": "python",
   "nbconvert_exporter": "python",
   "pygments_lexer": "ipython3",
   "version": "3.8.16"
  },
  "orig_nbformat": 4
 },
 "nbformat": 4,
 "nbformat_minor": 2
}
